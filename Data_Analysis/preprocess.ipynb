{
 "cells": [
  {
   "cell_type": "markdown",
   "metadata": {
    "toc": true
   },
   "source": [
    "<h1>Table of Contents<span class=\"tocSkip\"></span></h1>\n",
    "<div class=\"toc\"><ul class=\"toc-item\"><li><span><a href=\"#Pasos-previos\" data-toc-modified-id=\"Pasos-previos-1\"><span class=\"toc-item-num\">1&nbsp;&nbsp;</span>Pasos previos</a></span><ul class=\"toc-item\"><li><span><a href=\"#Libraries\" data-toc-modified-id=\"Libraries-1.1\"><span class=\"toc-item-num\">1.1&nbsp;&nbsp;</span>Libraries</a></span></li><li><span><a href=\"#Lectura-de-datos\" data-toc-modified-id=\"Lectura-de-datos-1.2\"><span class=\"toc-item-num\">1.2&nbsp;&nbsp;</span>Lectura de datos</a></span></li></ul></li><li><span><a href=\"#Preprocesamiento\" data-toc-modified-id=\"Preprocesamiento-2\"><span class=\"toc-item-num\">2&nbsp;&nbsp;</span>Preprocesamiento</a></span><ul class=\"toc-item\"><li><span><a href=\"#Drop-duplicates\" data-toc-modified-id=\"Drop-duplicates-2.1\"><span class=\"toc-item-num\">2.1&nbsp;&nbsp;</span>Drop duplicates</a></span></li><li><span><a href=\"#Drop-Years-=-1\" data-toc-modified-id=\"Drop-Years-=-1-2.2\"><span class=\"toc-item-num\">2.2&nbsp;&nbsp;</span>Drop Years = 1</a></span></li><li><span><a href=\"#Inconsistencias:-Years---Course\" data-toc-modified-id=\"Inconsistencias:-Years---Course-2.3\"><span class=\"toc-item-num\">2.3&nbsp;&nbsp;</span>Inconsistencias: Years - Course</a></span></li><li><span><a href=\"#Building-dataframe\" data-toc-modified-id=\"Building-dataframe-2.4\"><span class=\"toc-item-num\">2.4&nbsp;&nbsp;</span>Building dataframe</a></span></li></ul></li><li><span><a href=\"#Limpieza-de-los-datos\" data-toc-modified-id=\"Limpieza-de-los-datos-3\"><span class=\"toc-item-num\">3&nbsp;&nbsp;</span>Limpieza de los datos</a></span><ul class=\"toc-item\"><li><span><a href=\"#Replace-values\" data-toc-modified-id=\"Replace-values-3.1\"><span class=\"toc-item-num\">3.1&nbsp;&nbsp;</span>Replace values</a></span></li><li><span><a href=\"#Variable-types\" data-toc-modified-id=\"Variable-types-3.2\"><span class=\"toc-item-num\">3.2&nbsp;&nbsp;</span><strong>Variable types</strong></a></span><ul class=\"toc-item\"><li><span><a href=\"#Geographical\" data-toc-modified-id=\"Geographical-3.2.1\"><span class=\"toc-item-num\">3.2.1&nbsp;&nbsp;</span><strong>Geographical</strong></a></span></li><li><span><a href=\"#Dropable\" data-toc-modified-id=\"Dropable-3.2.2\"><span class=\"toc-item-num\">3.2.2&nbsp;&nbsp;</span><strong>Dropable</strong></a></span></li><li><span><a href=\"#Numeric\" data-toc-modified-id=\"Numeric-3.2.3\"><span class=\"toc-item-num\">3.2.3&nbsp;&nbsp;</span><strong>Numeric</strong></a></span></li><li><span><a href=\"#Categorical\" data-toc-modified-id=\"Categorical-3.2.4\"><span class=\"toc-item-num\">3.2.4&nbsp;&nbsp;</span><strong>Categorical</strong></a></span><ul class=\"toc-item\"><li><span><a href=\"#Variable-Title\" data-toc-modified-id=\"Variable-Title-3.2.4.1\"><span class=\"toc-item-num\">3.2.4.1&nbsp;&nbsp;</span>Variable Title</a></span></li><li><span><a href=\"#Dummies-con-la-variable-Category\" data-toc-modified-id=\"Dummies-con-la-variable-Category-3.2.4.2\"><span class=\"toc-item-num\">3.2.4.2&nbsp;&nbsp;</span>Dummies con la variable Category</a></span></li></ul></li></ul></li></ul></li><li><span><a href=\"#Construcción-del-dataset\" data-toc-modified-id=\"Construcción-del-dataset-4\"><span class=\"toc-item-num\">4&nbsp;&nbsp;</span>Construcción del dataset</a></span><ul class=\"toc-item\"><li><ul class=\"toc-item\"><li><span><a href=\"#Número-de-No-recuerdos-por-variable\" data-toc-modified-id=\"Número-de-No-recuerdos-por-variable-4.0.1\"><span class=\"toc-item-num\">4.0.1&nbsp;&nbsp;</span>Número de No recuerdos por variable</a></span></li><li><span><a href=\"#Diferencias-por-variable\" data-toc-modified-id=\"Diferencias-por-variable-4.0.2\"><span class=\"toc-item-num\">4.0.2&nbsp;&nbsp;</span>Diferencias por variable</a></span></li><li><span><a href=\"#Añadir-columna-primer-año\" data-toc-modified-id=\"Añadir-columna-primer-año-4.0.3\"><span class=\"toc-item-num\">4.0.3&nbsp;&nbsp;</span>Añadir columna primer año</a></span></li></ul></li><li><span><a href=\"#&quot;Limpieza&quot;\" data-toc-modified-id=\"&quot;Limpieza&quot;-4.1\"><span class=\"toc-item-num\">4.1&nbsp;&nbsp;</span>\"Limpieza\"</a></span></li></ul></li><li><span><a href=\"#Descripción-modelos\" data-toc-modified-id=\"Descripción-modelos-5\"><span class=\"toc-item-num\">5&nbsp;&nbsp;</span>Descripción modelos</a></span><ul class=\"toc-item\"><li><span><a href=\"#Modelo-1:-Todo-el-mundo:--No-participan\" data-toc-modified-id=\"Modelo-1:-Todo-el-mundo:--No-participan-5.1\"><span class=\"toc-item-num\">5.1&nbsp;&nbsp;</span>Modelo 1: Todo el mundo:  No participan</a></span></li><li><span><a href=\"#Modelo-2:-Todo-el-mundo:--Participan\" data-toc-modified-id=\"Modelo-2:-Todo-el-mundo:--Participan-5.2\"><span class=\"toc-item-num\">5.2&nbsp;&nbsp;</span>Modelo 2: Todo el mundo:  Participan</a></span></li><li><span><a href=\"#Drop-Columns\" data-toc-modified-id=\"Drop-Columns-5.3\"><span class=\"toc-item-num\">5.3&nbsp;&nbsp;</span>Drop Columns</a></span></li></ul></li></ul></div>"
   ]
  },
  {
   "cell_type": "markdown",
   "metadata": {},
   "source": [
    "# Pasos previos"
   ]
  },
  {
   "cell_type": "markdown",
   "metadata": {
    "id": "eLohKtWP_2hz"
   },
   "source": [
    "## Libraries"
   ]
  },
  {
   "cell_type": "markdown",
   "metadata": {
    "id": "TC1vhO5tBqpi"
   },
   "source": [
    "Comenzamos importando las librerías necesarias"
   ]
  },
  {
   "cell_type": "code",
   "execution_count": 1,
   "metadata": {
    "executionInfo": {
     "elapsed": 643,
     "status": "ok",
     "timestamp": 1648720652057,
     "user": {
      "displayName": "MIGUEL AGUIRRE JUAREZ",
      "userId": "05714547120220264458"
     },
     "user_tz": -120
    },
    "id": "Iy21aTssv4hC"
   },
   "outputs": [],
   "source": [
    "import math \n",
    "import numpy as np\n",
    "import pandas as pd\n",
    "from scipy.stats import chi2_contingency\n",
    "import seaborn as sns\n",
    "import datetime\n",
    "import warnings\n",
    "warnings.filterwarnings('ignore')"
   ]
  },
  {
   "cell_type": "markdown",
   "metadata": {
    "id": "rnJltb7Y_jYh"
   },
   "source": [
    "## Lectura de datos"
   ]
  },
  {
   "cell_type": "code",
   "execution_count": 2,
   "metadata": {},
   "outputs": [],
   "source": [
    "data = pd.read_excel('/Users/miguelaguirrejuarez/Desktop/LUCE/Proyecto/entorno1/Datasets/Datos_Obs-2.xlsx')"
   ]
  },
  {
   "cell_type": "code",
   "execution_count": 3,
   "metadata": {},
   "outputs": [],
   "source": [
    "data = data.drop(\"Marca temporal\",axis = 1)"
   ]
  },
  {
   "cell_type": "markdown",
   "metadata": {},
   "source": [
    "Borramos las últimas columnas puesto que vamos a deshechar los datos de alumnos que hayan contestado Otro."
   ]
  },
  {
   "cell_type": "code",
   "execution_count": 4,
   "metadata": {},
   "outputs": [],
   "source": [
    "data = data.iloc[:,0:389]"
   ]
  },
  {
   "cell_type": "markdown",
   "metadata": {
    "id": "KSTxFtNRCed9"
   },
   "source": [
    "# Preprocesamiento"
   ]
  },
  {
   "cell_type": "code",
   "execution_count": 5,
   "metadata": {
    "colab": {
     "base_uri": "https://localhost:8080/"
    },
    "executionInfo": {
     "elapsed": 59,
     "status": "ok",
     "timestamp": 1648720750541,
     "user": {
      "displayName": "MIGUEL AGUIRRE JUAREZ",
      "userId": "05714547120220264458"
     },
     "user_tz": -120
    },
    "id": "iPJxjw0vFS9B",
    "outputId": "1565c93e-1e55-47bf-e0f2-b8dc4bd1eb18"
   },
   "outputs": [],
   "source": [
    "variables = ['Sports','Attendance','FreeTime','Association','Category','Friend','Participation','Credits','Satisfaced','Shy']\n",
    "nVar = 10\n",
    "nVarSinAños = 2\n",
    "nVarConAños = 8\n",
    "nVarInicio = 11\n",
    "nAños = 9\n",
    "\n",
    "axis = ['Mail', 'Consent','Age', 'PC','PC2','Gender','Grado','Master','Doctorado','Course','Years']\n",
    "\n",
    "# Un bucle por el numero de años que hay recorrer\n",
    "for i in range(nAños):\n",
    "\n",
    "    # Un bucle para el número de variables que hay con respuestas de distintos años\n",
    "    for j in range(nVarConAños):\n",
    "\n",
    "        # Un bucle para el número de variables que se generan por cada una de las preguntas\n",
    "        for k in range(i+1):\n",
    "            axis.append(variables[j]+\"_\"+str(i+1)+\"_\"+str(k+1))\n",
    "  \n",
    "  # Aqui se añaden las ultimas dos variables : \n",
    "    # Satisfaced \n",
    "    axis.append(variables[8]+\"_\"+str(i+1))\n",
    "\n",
    "    # Shy\n",
    "    axis.append(variables[9]+\"_\"+str(i+1))\n",
    "\n",
    "# Y en este otro se añaden las de la ultima pregunta\n",
    "#for j in range(10):\n",
    "#    axis.append(variables[j]+\"_\"+str(9)+\"_\"+str(1))\n",
    "\n",
    "data.set_axis(axis, axis=1, inplace=True)\n",
    "#data.columns"
   ]
  },
  {
   "cell_type": "markdown",
   "metadata": {
    "id": "WNdAs0bE-6O3"
   },
   "source": [
    "## Drop duplicates"
   ]
  },
  {
   "cell_type": "code",
   "execution_count": 6,
   "metadata": {
    "executionInfo": {
     "elapsed": 56,
     "status": "ok",
     "timestamp": 1648720750542,
     "user": {
      "displayName": "MIGUEL AGUIRRE JUAREZ",
      "userId": "05714547120220264458"
     },
     "user_tz": -120
    },
    "id": "cTzq98H6-5wo"
   },
   "outputs": [],
   "source": [
    "data = data.drop_duplicates(subset=['Mail'], keep='last',ignore_index= True)"
   ]
  },
  {
   "cell_type": "markdown",
   "metadata": {},
   "source": [
    "## Drop Years = 1"
   ]
  },
  {
   "cell_type": "markdown",
   "metadata": {},
   "source": [
    "Se eliminan del dataset los años que no se van a utilizar para el estudio correspondientes a las respuestas:\n",
    "* 1\n",
    "* Otro"
   ]
  },
  {
   "cell_type": "code",
   "execution_count": 7,
   "metadata": {},
   "outputs": [],
   "source": [
    "data.drop(data.loc[data.loc[:,\"Years\"] == 1].index)\n",
    "data = data.reset_index(drop = True)"
   ]
  },
  {
   "cell_type": "code",
   "execution_count": 9,
   "metadata": {
    "colab": {
     "base_uri": "https://localhost:8080/"
    },
    "executionInfo": {
     "elapsed": 31,
     "status": "ok",
     "timestamp": 1648720750544,
     "user": {
      "displayName": "MIGUEL AGUIRRE JUAREZ",
      "userId": "05714547120220264458"
     },
     "user_tz": -120
    },
    "id": "ePz1ht0Y6BoP",
    "outputId": "81f8863a-6216-4373-a899-0a7cb2ee3e8a"
   },
   "outputs": [],
   "source": [
    "Years = [2.0, 3.0, 4.0, 5.0, 6.0, 7.0, 8.0, 9.0]\n",
    "for i in range(len(data)):\n",
    "    if not(data.loc[i,\"Years\"] in Years):\n",
    "        data = data.drop(i)"
   ]
  },
  {
   "cell_type": "markdown",
   "metadata": {
    "id": "Ol2-YFgVxrmz"
   },
   "source": [
    "## Inconsistencias: Years - Course"
   ]
  },
  {
   "cell_type": "markdown",
   "metadata": {
    "id": "EredV4V8pc60"
   },
   "source": [
    "Antes de comenzar la construcción del dataset cambiaremos la variable Course de caracter a entero. Con esto podremos realizar el cálculo de la variable años de retraso.\n",
    "\n",
    "Retraso = Años en la carrera - Curso"
   ]
  },
  {
   "cell_type": "code",
   "execution_count": 8,
   "metadata": {
    "colab": {
     "base_uri": "https://localhost:8080/"
    },
    "executionInfo": {
     "elapsed": 43,
     "status": "ok",
     "timestamp": 1648720750543,
     "user": {
      "displayName": "MIGUEL AGUIRRE JUAREZ",
      "userId": "05714547120220264458"
     },
     "user_tz": -120
    },
    "id": "28tFQOXIpcqk",
    "outputId": "5d564171-ecd9-4f73-dc67-79d7c304ae4c"
   },
   "outputs": [],
   "source": [
    "data.loc[data[\"Course\"] == \"Primero\",\"Course\"] = data.loc[:,\"Course\"].replace({\"Primero\": 1})\n",
    "data.loc[data[\"Course\"] == \"Segundo\",\"Course\"] = data.loc[:,\"Course\"].replace({\"Segundo\": 2})\n",
    "data.loc[data[\"Course\"] == \"Tercero\",\"Course\"] = data.loc[:,\"Course\"].replace({\"Tercero\": 3})\n",
    "data.loc[data[\"Course\"] == \"Cuarto\" ,\"Course\"] = data.loc[:,\"Course\"].replace({\"Cuarto\" : 4})\n",
    "data.loc[data[\"Course\"] == \"Quinto\" ,\"Course\"] = data.loc[:,\"Course\"].replace({\"Quinto\" : 5})\n",
    "data.loc[data[\"Course\"] == \"Sexto\"  ,\"Course\"] = data.loc[:,\"Course\"].replace({\"Sexto\"  : 6})"
   ]
  },
  {
   "cell_type": "code",
   "execution_count": 10,
   "metadata": {
    "colab": {
     "base_uri": "https://localhost:8080/"
    },
    "executionInfo": {
     "elapsed": 499,
     "status": "ok",
     "timestamp": 1648720751024,
     "user": {
      "displayName": "MIGUEL AGUIRRE JUAREZ",
      "userId": "05714547120220264458"
     },
     "user_tz": -120
    },
    "id": "pDoNeSXap3cM",
    "outputId": "3034ef13-226b-4bec-b0c0-8a79232becf4"
   },
   "outputs": [],
   "source": [
    "data[\"Retard\"] = data[\"Years\"] - data[\"Course\"]"
   ]
  },
  {
   "cell_type": "markdown",
   "metadata": {
    "id": "4QVMm75yxuma"
   },
   "source": [
    "Comprobamos que todo ha ido bien"
   ]
  },
  {
   "cell_type": "code",
   "execution_count": 11,
   "metadata": {},
   "outputs": [],
   "source": [
    "data = data.loc[data[\"Retard\"]>=0]"
   ]
  },
  {
   "cell_type": "markdown",
   "metadata": {
    "id": "NeDX2R4jxwBL"
   },
   "source": [
    "Pero vemos que no. Este error se debe a una ambigüedad que había en las respuestas pero que parece que se ha solucionado. La ambigüedad venía por el número de años que llevaba un alumno en la facultad. Siendo su primer año de carrera, hay quien puede considerar que no lleva ningún año, quien esté en su segundo año puede pensar que lleva 1 y así... Por eso "
   ]
  },
  {
   "cell_type": "code",
   "execution_count": 12,
   "metadata": {
    "colab": {
     "base_uri": "https://localhost:8080/"
    },
    "executionInfo": {
     "elapsed": 24,
     "status": "ok",
     "timestamp": 1648720751025,
     "user": {
      "displayName": "MIGUEL AGUIRRE JUAREZ",
      "userId": "05714547120220264458"
     },
     "user_tz": -120
    },
    "id": "sWDR6TQexkL3",
    "outputId": "d3c69776-cba8-468f-9e4f-3d5eed4b3b02"
   },
   "outputs": [],
   "source": [
    "data.loc[:,\"Retard\"] = data[\"Years\"] - data[\"Course\"]"
   ]
  },
  {
   "cell_type": "markdown",
   "metadata": {
    "id": "dpr1xXq2VcfU"
   },
   "source": [
    "Aquí tenemos el bucle para aplicárselo a todos los datos"
   ]
  },
  {
   "cell_type": "code",
   "execution_count": 13,
   "metadata": {},
   "outputs": [],
   "source": [
    "data = data.set_index(pd.Index(list(range(len(data)))))"
   ]
  },
  {
   "cell_type": "markdown",
   "metadata": {},
   "source": [
    "Eliminamos algiunos casos anómalos en la variable Género:"
   ]
  },
  {
   "cell_type": "code",
   "execution_count": 15,
   "metadata": {},
   "outputs": [],
   "source": [
    "#data.loc[:,[\"Age\",\"Gender\"]].groupby(\"Gender\").count()"
   ]
  },
  {
   "cell_type": "code",
   "execution_count": 14,
   "metadata": {},
   "outputs": [],
   "source": [
    "data = data.drop(data.loc[data.loc[:,\"Gender\"] == 'Helicóptero Apache de combate '].index)\n",
    "data = data.drop(data.loc[data.loc[:,\"Gender\"] =='transespecie'].index)\n",
    "data = data.drop(data.loc[data.loc[:,\"Gender\"] == \"Agénero\"].index)\n",
    "data = data.reset_index(drop=True)"
   ]
  },
  {
   "cell_type": "markdown",
   "metadata": {
    "id": "PaU204Wy4RiR"
   },
   "source": [
    "## Building dataframe"
   ]
  },
  {
   "cell_type": "code",
   "execution_count": 16,
   "metadata": {
    "executionInfo": {
     "elapsed": 1448,
     "status": "ok",
     "timestamp": 1648720752468,
     "user": {
      "displayName": "MIGUEL AGUIRRE JUAREZ",
      "userId": "05714547120220264458"
     },
     "user_tz": -120
    },
    "id": "Q34O7GxcTelD"
   },
   "outputs": [],
   "source": [
    "variablesDF = ['Mail','Consent','Age_Survey', 'PC','PC2','Gender','Grade','Master','Doctorado','Course','Years',\n",
    "               'Sports','Attendance','FreeTime','Association','Category','Friend','Participation','Credits','Satisfaced','Shy',\n",
    "               \"Year\",\"Age\",\"Retards\",\"Retard_year\"]\n",
    "\n",
    "df = pd.DataFrame(columns =variablesDF)\n",
    "copyRow = []\n",
    "rowCopyRow = []\n",
    "\n",
    "for i in range(len(data)):\n",
    "    \n",
    "    try:\n",
    "        j = int(data.loc[i,\"Years\"])\n",
    "        indiceInicio = nVarInicio   + (sum(range(j)))*8 + (j-1)*2\n",
    "        indiceFin    = nVarInicio   + (sum(range(j+1)))*8 + (j)*2\n",
    "\n",
    "        for k in range(j):\n",
    "          indexs = list(range(indiceInicio +k, indiceFin-2+k , j))\n",
    "          indexs.append(indiceFin-2)\n",
    "          indexs.append(indiceFin-1)\n",
    "          indexs = list(range(11)) + indexs \n",
    "          dataByYear = data.iloc[i:i+1,indexs]\n",
    "          values = dataByYear.values.tolist()\n",
    "\n",
    "          # Añadir Año de carrera\n",
    "          values[0].append(k+1)\n",
    "\n",
    "          # Añadir Edad actual\n",
    "          values[0].append(int(data.loc[i,\"Age\"]) - int(data.loc[i,\"Years\"]) + k )\n",
    "\n",
    "          # Añadir Retardo general\n",
    "          values[0].append(int(data.loc[i,\"Retard\"]))\n",
    "\n",
    "          # Añadir Retardo por año\n",
    "          if (int(data.loc[i,\"Retard\"]) - j +k +1< 0):\n",
    "            values[0].append(0)\n",
    "          else:\n",
    "            values[0].append(int(data.loc[i,\"Retard\"]) - j +k+1)\n",
    "\n",
    "          dfNew=pd.DataFrame(values, columns = variablesDF)\n",
    "\n",
    "          df =pd.concat([df, dfNew], ignore_index=True)\n",
    "\n",
    "    except Exception as e: \n",
    "        print(e)\n",
    "        print(i)"
   ]
  },
  {
   "cell_type": "markdown",
   "metadata": {
    "id": "LqIlByrFlr-D"
   },
   "source": [
    "# Limpieza de los datos\n"
   ]
  },
  {
   "cell_type": "markdown",
   "metadata": {
    "id": "AnYmEdRl3wnB"
   },
   "source": [
    "El dataset ya tiene todas las observaciones bien, todas en su sitio, con sus respectivos años. Ahora habrá que realizar un tratamiento de los valores:\n",
    "*        Reemplazar Sí por Si\n",
    "*        Cambiar la respuesta No recuerdo por:\n",
    "            *    Un número\n",
    "            *    Dejarla así\n"
   ]
  },
  {
   "cell_type": "markdown",
   "metadata": {
    "id": "VoWHoT8AAWZN"
   },
   "source": [
    "## Replace values"
   ]
  },
  {
   "cell_type": "code",
   "execution_count": 17,
   "metadata": {
    "executionInfo": {
     "elapsed": 31,
     "status": "ok",
     "timestamp": 1648720752471,
     "user": {
      "displayName": "MIGUEL AGUIRRE JUAREZ",
      "userId": "05714547120220264458"
     },
     "user_tz": -120
    },
    "id": "Tf0ww00rlrpL"
   },
   "outputs": [],
   "source": [
    "df_rep = df.replace({\"Sí\": \"Si\"})"
   ]
  },
  {
   "cell_type": "markdown",
   "metadata": {
    "id": "dyrmTCM6rQB7"
   },
   "source": [
    "## **Variable types**"
   ]
  },
  {
   "cell_type": "markdown",
   "metadata": {
    "id": "N_Xw920orhEb"
   },
   "source": [
    "### **Geographical** "
   ]
  },
  {
   "cell_type": "markdown",
   "metadata": {
    "id": "DEw8QUeiK_RZ"
   },
   "source": [
    "*   PC\n",
    "*   PC2"
   ]
  },
  {
   "cell_type": "code",
   "execution_count": 18,
   "metadata": {
    "colab": {
     "base_uri": "https://localhost:8080/",
     "height": 838
    },
    "executionInfo": {
     "elapsed": 809,
     "status": "ok",
     "timestamp": 1648720753269,
     "user": {
      "displayName": "MIGUEL AGUIRRE JUAREZ",
      "userId": "05714547120220264458"
     },
     "user_tz": -120
    },
    "id": "63rZid_Prwaz",
    "outputId": "8191b0dd-4146-41f4-cb31-aff9068c5e09"
   },
   "outputs": [],
   "source": [
    "dataFrame_drop = df_rep.drop(columns=['PC','PC2'])"
   ]
  },
  {
   "cell_type": "markdown",
   "metadata": {
    "id": "8izHRuKuuN62"
   },
   "source": [
    "### **Dropable**"
   ]
  },
  {
   "cell_type": "markdown",
   "metadata": {
    "id": "4uJVzTp_uRCt"
   },
   "source": [
    "*   Consent\n",
    "*   Age_Survey\n",
    "*   Course\n",
    "*   Retards\n"
   ]
  },
  {
   "cell_type": "code",
   "execution_count": 19,
   "metadata": {
    "colab": {
     "base_uri": "https://localhost:8080/",
     "height": 838
    },
    "executionInfo": {
     "elapsed": 31,
     "status": "ok",
     "timestamp": 1648720753269,
     "user": {
      "displayName": "MIGUEL AGUIRRE JUAREZ",
      "userId": "05714547120220264458"
     },
     "user_tz": -120
    },
    "id": "3jcbO7oouQP4",
    "outputId": "b94b861a-7f89-40f1-9143-ae8d005e494c"
   },
   "outputs": [],
   "source": [
    "dataFrame_drop = dataFrame_drop.drop(columns=['Consent','Age_Survey','Retards','Course'])"
   ]
  },
  {
   "cell_type": "markdown",
   "metadata": {
    "id": "6Jz4pmzx5UyO"
   },
   "source": [
    "Con las variables que han quedado, vamos a ordenarlas, primero las categóricas, después las numéricas y se termina con la variable objetivo. "
   ]
  },
  {
   "cell_type": "markdown",
   "metadata": {
    "id": "SzUNhqA9rXc1"
   },
   "source": [
    "### **Numeric**\n",
    "\n",
    "\n"
   ]
  },
  {
   "cell_type": "markdown",
   "metadata": {
    "id": "Kdcvhby0K6os"
   },
   "source": [
    "\n",
    "*   Age\n",
    "*   Year\n",
    "*   Years\n",
    "*   Sports\n",
    "*   Attendance\n",
    "*   Satisfaced\n",
    "*   Shy"
   ]
  },
  {
   "cell_type": "markdown",
   "metadata": {
    "id": "l-Eqcps-rTAR"
   },
   "source": [
    "### **Categorical** \n",
    "\n",
    "\n",
    "*   Gender\n",
    "*   Title\n",
    "*   FreeTime\n",
    "*   Association\n",
    "*   Category\n",
    "*   Friend\n",
    "*   Credits\n",
    "\n"
   ]
  },
  {
   "cell_type": "markdown",
   "metadata": {},
   "source": [
    "#### Variable Title"
   ]
  },
  {
   "cell_type": "markdown",
   "metadata": {},
   "source": [
    "En este punto del notebook, el dataframe tiene 3 columnas llamadas: \n",
    "* \"Grade\"\n",
    "* \"Master\"\n",
    "* \"Doctorado\"\n",
    "\n",
    "Añadiremos la columna Title, en la que se añadirá el valor de cada una de esas columnas y transformaremos las columnas Grado, Master y Doctorado en Dummies\n"
   ]
  },
  {
   "cell_type": "code",
   "execution_count": 20,
   "metadata": {},
   "outputs": [],
   "source": [
    "title = []\n",
    "Vacio=[]\n",
    "for i in range(len(dataFrame_drop)):\n",
    "    row = dataFrame_drop.loc[i,[\"Grade\",\"Master\",\"Doctorado\"]].isna()\n",
    "    if not(row[2]):\n",
    "        title.append(\"Doctorado\")\n",
    "    elif not(row[1]):\n",
    "        title.append(\"Master\")\n",
    "    elif not(row[0]):\n",
    "        title.append(\"Grade\")\n",
    "    else:\n",
    "        Vacio.append(i)\n",
    "        title.append(\"Ninguno\")\n",
    "        \n",
    "df_rep_drop_int_tit = dataFrame_drop\n",
    "df_rep_drop_int_tit.loc[:,\"Title\"]     = title\n",
    "df_rep_drop_int_tit = df_rep_drop_int_tit.drop(columns= [\"Grade\",\"Master\",\"Doctorado\"])"
   ]
  },
  {
   "cell_type": "markdown",
   "metadata": {},
   "source": [
    "Se puede ver que hay algunos registros de alumnos que han rellenado la encuesta y que no han contestado cuál es su titulación actual. ¿Continuamos con ellos en el proceso o los eliminamos? \n",
    "Si continuamos con ellos lo único que habría que hacer es:\n",
    "1. Ponerles un 0 en las tres columnas: Grade, Master y Doctorado\n",
    "2. En la columna Title, añadir una categoría llamada \"Ninguno\" o \"Prefiero no decirlo\""
   ]
  },
  {
   "cell_type": "code",
   "execution_count": 21,
   "metadata": {},
   "outputs": [
    {
     "data": {
      "text/plain": [
       "36"
      ]
     },
     "execution_count": 21,
     "metadata": {},
     "output_type": "execute_result"
    }
   ],
   "source": [
    "title.count(\"Ninguno\")"
   ]
  },
  {
   "cell_type": "markdown",
   "metadata": {
    "id": "h7IuYmLOKdvM"
   },
   "source": [
    "#### Dummies con la variable Category"
   ]
  },
  {
   "cell_type": "code",
   "execution_count": 22,
   "metadata": {
    "colab": {
     "base_uri": "https://localhost:8080/"
    },
    "executionInfo": {
     "elapsed": 25,
     "status": "ok",
     "timestamp": 1648720753274,
     "user": {
      "displayName": "MIGUEL AGUIRRE JUAREZ",
      "userId": "05714547120220264458"
     },
     "user_tz": -120
    },
    "id": "YGSp-eMW3I3W",
    "outputId": "e9a203d3-789e-4515-fa28-7eb0f0331610"
   },
   "outputs": [],
   "source": [
    "df_rep_drop_int_tit_cat = df_rep_drop_int_tit\n",
    "df_rep_drop_int_tit_cat.loc[:,\"Category\"] = df_rep_drop_int_tit_cat.loc[:,\"Category\"].fillna(\"Ninguna\")\n",
    "\n",
    "Politica      = [0]*len(df_rep_drop_int_tit_cat)\n",
    "Artistica     = [0]*len(df_rep_drop_int_tit_cat)\n",
    "Deportiva     = [0]*len(df_rep_drop_int_tit_cat)\n",
    "Musical       = [0]*len(df_rep_drop_int_tit_cat)\n",
    "Voluntariado  = [0]*len(df_rep_drop_int_tit_cat)\n",
    "Ninguna       = [0]*len(df_rep_drop_int_tit_cat)\n",
    "\n",
    "for i in range(len(df)):\n",
    "    if \"Politica\" in df_rep_drop_int_tit_cat.loc[i,\"Category\"]:\n",
    "        Politica[i] = 1\n",
    "    if \"Artística\" in df_rep_drop_int_tit_cat.loc[i,\"Category\"]:\n",
    "        Artistica[i] = 1\n",
    "    if \"Deportiva\" in df_rep_drop_int_tit_cat.loc[i,\"Category\"]:\n",
    "        Deportiva[i] = 1\n",
    "    if \"Musical\" in df_rep_drop_int_tit_cat.loc[i,\"Category\"]:\n",
    "        Musical[i] = 1\n",
    "    if \"Voluntariado\" in df_rep_drop_int_tit_cat.loc[i,\"Category\"]:\n",
    "        Voluntariado[i] = 1\n",
    "    if \"Ninguna\" == df_rep_drop_int_tit_cat.loc[i,\"Category\"]:\n",
    "        Ninguna[i] = 1\n",
    "\n",
    "df_rep_drop_int_tit_cat.loc[:,\"Politica\"]      = Politica    \n",
    "df_rep_drop_int_tit_cat.loc[:,\"Artistica\"]     = Artistica   \n",
    "df_rep_drop_int_tit_cat.loc[:,\"Deportiva\"]     = Deportiva   \n",
    "df_rep_drop_int_tit_cat.loc[:,\"Musical\"]       = Musical     \n",
    "df_rep_drop_int_tit_cat.loc[:,\"Voluntariado\"]  = Voluntariado\n",
    "df_rep_drop_int_tit_cat.loc[:,\"Ninguna\"]       = Ninguna\n",
    "\n",
    "#df = df.drop(\"Category\",axis = 1)"
   ]
  },
  {
   "cell_type": "code",
   "execution_count": 23,
   "metadata": {},
   "outputs": [],
   "source": [
    "df = df_rep_drop_int_tit_cat"
   ]
  },
  {
   "cell_type": "markdown",
   "metadata": {},
   "source": [
    "# Construcción del dataset"
   ]
  },
  {
   "cell_type": "code",
   "execution_count": 24,
   "metadata": {},
   "outputs": [],
   "source": [
    "df = df.reset_index(drop=True)"
   ]
  },
  {
   "cell_type": "markdown",
   "metadata": {},
   "source": [
    "Devolvemos los emails y el primer índice en el que aparecen"
   ]
  },
  {
   "cell_type": "code",
   "execution_count": 25,
   "metadata": {},
   "outputs": [],
   "source": [
    "u, indices = np.unique(df.Mail, return_index=True)"
   ]
  },
  {
   "cell_type": "code",
   "execution_count": 26,
   "metadata": {},
   "outputs": [],
   "source": [
    "df.loc[df.loc[:,\"Participation\"] == \"Si\",\"Participation\"] = df.loc[df.loc[:,\"Participation\"] == \"Si\",\"Participation\"].replace({\"Si\" : 1})\n",
    "df.loc[df.loc[:,\"Participation\"] == \"No\",\"Participation\"] = df.loc[df.loc[:,\"Participation\"] == \"No\",\"Participation\"].replace({\"No\" : 0})\n",
    "df.loc[df.loc[:,\"Participation\"] == \"No recuerdo\",\"Participation\"] = df.loc[df.loc[:,\"Participation\"] == \"No recuerdo\",\"Participation\"].replace({\"No recuerdo\" : 0})"
   ]
  },
  {
   "cell_type": "code",
   "execution_count": 27,
   "metadata": {},
   "outputs": [],
   "source": [
    "df.loc[:,\"Dif_Participation\"] = [0]*len(df)\n",
    "dif = [\"Participation\"]  \n",
    "\n",
    "dif2 = dif.copy()\n",
    "for i in range(len(dif)): \n",
    "    dif2[i] = \"Dif_\" + dif2[i]\n",
    "\n",
    "for i in range(len(u)):\n",
    "    for j in range(int(df.loc[indices[i],\"Years\"]) - 1):\n",
    "        row1 = df.loc[indices[i] + j] \n",
    "        row2 = df.loc[indices[i] + j + 1]\n",
    "        for k in dif:\n",
    "            try:\n",
    "                colPart = abs(row1[k]-row2[k])\n",
    "            except:\n",
    "                if row1[k] ==\"No recuerdo\" or row2[k] ==\"No recuerdo\":\n",
    "                    colPart = 0\n",
    "                elif row1[k] == row2[k]:\n",
    "                    colPart = 0\n",
    "                else: \n",
    "                    colPart = 1\n",
    "                    \n",
    "            df.loc[indices[i]+j,\"Dif_\" + k ] = colPart"
   ]
  },
  {
   "cell_type": "code",
   "execution_count": 28,
   "metadata": {},
   "outputs": [],
   "source": [
    "dif = [\"Sports\",\"Attendance\",\"FreeTime\",\"Association\",\"Friend\",\n",
    "       \"Politica\",\"Artistica\",\"Deportiva\",\"Musical\",\"Voluntariado\",\"Ninguna\",\"Credits\"]  \n",
    "\n",
    "dif2 = dif.copy()\n",
    "for i in range(len(dif)): \n",
    "    dif2[i] = \"Dif_\" + dif2[i]\n",
    "\n",
    "for i in range(len(u)):\n",
    "    for j in range(1,int(df.loc[indices[i],\"Years\"])):\n",
    "        row1 = df.loc[indices[i] + j - 1] \n",
    "        row2 = df.loc[indices[i] + j]\n",
    "        for k in dif:\n",
    "            try:\n",
    "                colPart = abs(row1[k]-row2[k])\n",
    "            except:\n",
    "                if row1[k] ==\"No recuerdo\" or row2[k] ==\"No recuerdo\":\n",
    "                    colPart = 0\n",
    "                elif row1[k] == row2[k]:\n",
    "                    colPart = 0\n",
    "                else: \n",
    "                    colPart = 1\n",
    "                \n",
    "            df.loc[indices[i]+j,\"Dif_\" + k ] = colPart\n",
    "\n",
    "\n",
    "df.loc[:,dif2] = df.loc[:,dif2].replace({np.nan: 0})"
   ]
  },
  {
   "cell_type": "code",
   "execution_count": 29,
   "metadata": {},
   "outputs": [],
   "source": [
    "df = df.drop(df.loc[df.loc[:,\"Year\"] == df.loc[:,\"Years\"]].index)"
   ]
  },
  {
   "cell_type": "code",
   "execution_count": 30,
   "metadata": {
    "scrolled": false
   },
   "outputs": [
    {
     "data": {
      "text/html": [
       "<div>\n",
       "<style scoped>\n",
       "    .dataframe tbody tr th:only-of-type {\n",
       "        vertical-align: middle;\n",
       "    }\n",
       "\n",
       "    .dataframe tbody tr th {\n",
       "        vertical-align: top;\n",
       "    }\n",
       "\n",
       "    .dataframe thead th {\n",
       "        text-align: right;\n",
       "    }\n",
       "</style>\n",
       "<table border=\"1\" class=\"dataframe\">\n",
       "  <thead>\n",
       "    <tr style=\"text-align: right;\">\n",
       "      <th></th>\n",
       "      <th>Mail</th>\n",
       "      <th>Gender</th>\n",
       "      <th>Years</th>\n",
       "      <th>Sports</th>\n",
       "      <th>Attendance</th>\n",
       "      <th>FreeTime</th>\n",
       "      <th>Association</th>\n",
       "      <th>Category</th>\n",
       "      <th>Friend</th>\n",
       "      <th>Participation</th>\n",
       "      <th>...</th>\n",
       "      <th>Dif_FreeTime</th>\n",
       "      <th>Dif_Association</th>\n",
       "      <th>Dif_Friend</th>\n",
       "      <th>Dif_Politica</th>\n",
       "      <th>Dif_Artistica</th>\n",
       "      <th>Dif_Deportiva</th>\n",
       "      <th>Dif_Musical</th>\n",
       "      <th>Dif_Voluntariado</th>\n",
       "      <th>Dif_Ninguna</th>\n",
       "      <th>Dif_Credits</th>\n",
       "    </tr>\n",
       "  </thead>\n",
       "  <tbody>\n",
       "    <tr>\n",
       "      <th>4</th>\n",
       "      <td>caapar01@ucm.es</td>\n",
       "      <td>Masculino</td>\n",
       "      <td>3.0</td>\n",
       "      <td>0.0</td>\n",
       "      <td>4.0</td>\n",
       "      <td>0-25%</td>\n",
       "      <td>No</td>\n",
       "      <td>Ninguna</td>\n",
       "      <td>Si</td>\n",
       "      <td>0</td>\n",
       "      <td>...</td>\n",
       "      <td>0.0</td>\n",
       "      <td>0.0</td>\n",
       "      <td>0.0</td>\n",
       "      <td>0.0</td>\n",
       "      <td>0.0</td>\n",
       "      <td>0.0</td>\n",
       "      <td>0.0</td>\n",
       "      <td>0.0</td>\n",
       "      <td>0.0</td>\n",
       "      <td>0.0</td>\n",
       "    </tr>\n",
       "    <tr>\n",
       "      <th>5</th>\n",
       "      <td>caapar01@ucm.es</td>\n",
       "      <td>Masculino</td>\n",
       "      <td>3.0</td>\n",
       "      <td>0.0</td>\n",
       "      <td>4.0</td>\n",
       "      <td>0-25%</td>\n",
       "      <td>No</td>\n",
       "      <td>Ninguna</td>\n",
       "      <td>Si</td>\n",
       "      <td>0</td>\n",
       "      <td>...</td>\n",
       "      <td>0.0</td>\n",
       "      <td>0.0</td>\n",
       "      <td>0.0</td>\n",
       "      <td>0.0</td>\n",
       "      <td>0.0</td>\n",
       "      <td>0.0</td>\n",
       "      <td>0.0</td>\n",
       "      <td>0.0</td>\n",
       "      <td>0.0</td>\n",
       "      <td>0.0</td>\n",
       "    </tr>\n",
       "    <tr>\n",
       "      <th>7</th>\n",
       "      <td>alisor02@ucm.es</td>\n",
       "      <td>Femenino</td>\n",
       "      <td>2.0</td>\n",
       "      <td>0.0</td>\n",
       "      <td>5.0</td>\n",
       "      <td>0-25%</td>\n",
       "      <td>No</td>\n",
       "      <td>Ninguna</td>\n",
       "      <td>No</td>\n",
       "      <td>0</td>\n",
       "      <td>...</td>\n",
       "      <td>0.0</td>\n",
       "      <td>0.0</td>\n",
       "      <td>0.0</td>\n",
       "      <td>0.0</td>\n",
       "      <td>0.0</td>\n",
       "      <td>0.0</td>\n",
       "      <td>0.0</td>\n",
       "      <td>0.0</td>\n",
       "      <td>0.0</td>\n",
       "      <td>0.0</td>\n",
       "    </tr>\n",
       "    <tr>\n",
       "      <th>10</th>\n",
       "      <td>bielnavar@ucm.es</td>\n",
       "      <td>No binario</td>\n",
       "      <td>5.0</td>\n",
       "      <td>0.0</td>\n",
       "      <td>2.0</td>\n",
       "      <td>25-50%</td>\n",
       "      <td>No</td>\n",
       "      <td>Ninguna</td>\n",
       "      <td>Si</td>\n",
       "      <td>1</td>\n",
       "      <td>...</td>\n",
       "      <td>0.0</td>\n",
       "      <td>0.0</td>\n",
       "      <td>0.0</td>\n",
       "      <td>0.0</td>\n",
       "      <td>0.0</td>\n",
       "      <td>0.0</td>\n",
       "      <td>0.0</td>\n",
       "      <td>0.0</td>\n",
       "      <td>0.0</td>\n",
       "      <td>0.0</td>\n",
       "    </tr>\n",
       "    <tr>\n",
       "      <th>11</th>\n",
       "      <td>bielnavar@ucm.es</td>\n",
       "      <td>No binario</td>\n",
       "      <td>5.0</td>\n",
       "      <td>0.0</td>\n",
       "      <td>5.0</td>\n",
       "      <td>25-50%</td>\n",
       "      <td>No</td>\n",
       "      <td>Ninguna</td>\n",
       "      <td>Si</td>\n",
       "      <td>1</td>\n",
       "      <td>...</td>\n",
       "      <td>0.0</td>\n",
       "      <td>0.0</td>\n",
       "      <td>0.0</td>\n",
       "      <td>0.0</td>\n",
       "      <td>0.0</td>\n",
       "      <td>0.0</td>\n",
       "      <td>0.0</td>\n",
       "      <td>0.0</td>\n",
       "      <td>0.0</td>\n",
       "      <td>0.0</td>\n",
       "    </tr>\n",
       "    <tr>\n",
       "      <th>...</th>\n",
       "      <td>...</td>\n",
       "      <td>...</td>\n",
       "      <td>...</td>\n",
       "      <td>...</td>\n",
       "      <td>...</td>\n",
       "      <td>...</td>\n",
       "      <td>...</td>\n",
       "      <td>...</td>\n",
       "      <td>...</td>\n",
       "      <td>...</td>\n",
       "      <td>...</td>\n",
       "      <td>...</td>\n",
       "      <td>...</td>\n",
       "      <td>...</td>\n",
       "      <td>...</td>\n",
       "      <td>...</td>\n",
       "      <td>...</td>\n",
       "      <td>...</td>\n",
       "      <td>...</td>\n",
       "      <td>...</td>\n",
       "      <td>...</td>\n",
       "    </tr>\n",
       "    <tr>\n",
       "      <th>6554</th>\n",
       "      <td>espebece@ucm.es</td>\n",
       "      <td>Femenino</td>\n",
       "      <td>4.0</td>\n",
       "      <td>5.0</td>\n",
       "      <td>5.0</td>\n",
       "      <td>0-25%</td>\n",
       "      <td>Si</td>\n",
       "      <td>Voluntariado</td>\n",
       "      <td>Si</td>\n",
       "      <td>1</td>\n",
       "      <td>...</td>\n",
       "      <td>0.0</td>\n",
       "      <td>0.0</td>\n",
       "      <td>0.0</td>\n",
       "      <td>0.0</td>\n",
       "      <td>0.0</td>\n",
       "      <td>1.0</td>\n",
       "      <td>0.0</td>\n",
       "      <td>0.0</td>\n",
       "      <td>0.0</td>\n",
       "      <td>0.0</td>\n",
       "    </tr>\n",
       "    <tr>\n",
       "      <th>6556</th>\n",
       "      <td>iramores@ucm.es</td>\n",
       "      <td>Femenino</td>\n",
       "      <td>5.0</td>\n",
       "      <td>5.0</td>\n",
       "      <td>5.0</td>\n",
       "      <td>0-25%</td>\n",
       "      <td>Si</td>\n",
       "      <td>Deportiva</td>\n",
       "      <td>Si</td>\n",
       "      <td>1</td>\n",
       "      <td>...</td>\n",
       "      <td>0.0</td>\n",
       "      <td>0.0</td>\n",
       "      <td>0.0</td>\n",
       "      <td>0.0</td>\n",
       "      <td>0.0</td>\n",
       "      <td>0.0</td>\n",
       "      <td>0.0</td>\n",
       "      <td>0.0</td>\n",
       "      <td>0.0</td>\n",
       "      <td>0.0</td>\n",
       "    </tr>\n",
       "    <tr>\n",
       "      <th>6557</th>\n",
       "      <td>iramores@ucm.es</td>\n",
       "      <td>Femenino</td>\n",
       "      <td>5.0</td>\n",
       "      <td>5.0</td>\n",
       "      <td>5.0</td>\n",
       "      <td>0-25%</td>\n",
       "      <td>Si</td>\n",
       "      <td>Deportiva</td>\n",
       "      <td>Si</td>\n",
       "      <td>1</td>\n",
       "      <td>...</td>\n",
       "      <td>0.0</td>\n",
       "      <td>0.0</td>\n",
       "      <td>0.0</td>\n",
       "      <td>0.0</td>\n",
       "      <td>0.0</td>\n",
       "      <td>0.0</td>\n",
       "      <td>0.0</td>\n",
       "      <td>0.0</td>\n",
       "      <td>0.0</td>\n",
       "      <td>0.0</td>\n",
       "    </tr>\n",
       "    <tr>\n",
       "      <th>6558</th>\n",
       "      <td>iramores@ucm.es</td>\n",
       "      <td>Femenino</td>\n",
       "      <td>5.0</td>\n",
       "      <td>2.0</td>\n",
       "      <td>5.0</td>\n",
       "      <td>25-50%</td>\n",
       "      <td>Si</td>\n",
       "      <td>Deportiva</td>\n",
       "      <td>Si</td>\n",
       "      <td>1</td>\n",
       "      <td>...</td>\n",
       "      <td>1.0</td>\n",
       "      <td>0.0</td>\n",
       "      <td>0.0</td>\n",
       "      <td>0.0</td>\n",
       "      <td>0.0</td>\n",
       "      <td>0.0</td>\n",
       "      <td>0.0</td>\n",
       "      <td>0.0</td>\n",
       "      <td>0.0</td>\n",
       "      <td>0.0</td>\n",
       "    </tr>\n",
       "    <tr>\n",
       "      <th>6559</th>\n",
       "      <td>iramores@ucm.es</td>\n",
       "      <td>Femenino</td>\n",
       "      <td>5.0</td>\n",
       "      <td>2.0</td>\n",
       "      <td>0.0</td>\n",
       "      <td>25-50%</td>\n",
       "      <td>No</td>\n",
       "      <td>Ninguna</td>\n",
       "      <td>Si</td>\n",
       "      <td>1</td>\n",
       "      <td>...</td>\n",
       "      <td>0.0</td>\n",
       "      <td>1.0</td>\n",
       "      <td>0.0</td>\n",
       "      <td>0.0</td>\n",
       "      <td>0.0</td>\n",
       "      <td>1.0</td>\n",
       "      <td>0.0</td>\n",
       "      <td>0.0</td>\n",
       "      <td>1.0</td>\n",
       "      <td>0.0</td>\n",
       "    </tr>\n",
       "  </tbody>\n",
       "</table>\n",
       "<p>3938 rows × 36 columns</p>\n",
       "</div>"
      ],
      "text/plain": [
       "                  Mail      Gender  Years Sports Attendance FreeTime  \\\n",
       "4      caapar01@ucm.es   Masculino    3.0    0.0        4.0    0-25%   \n",
       "5      caapar01@ucm.es   Masculino    3.0    0.0        4.0    0-25%   \n",
       "7      alisor02@ucm.es    Femenino    2.0    0.0        5.0    0-25%   \n",
       "10    bielnavar@ucm.es  No binario    5.0    0.0        2.0   25-50%   \n",
       "11    bielnavar@ucm.es  No binario    5.0    0.0        5.0   25-50%   \n",
       "...                ...         ...    ...    ...        ...      ...   \n",
       "6554   espebece@ucm.es    Femenino    4.0    5.0        5.0    0-25%   \n",
       "6556   iramores@ucm.es    Femenino    5.0    5.0        5.0    0-25%   \n",
       "6557   iramores@ucm.es    Femenino    5.0    5.0        5.0    0-25%   \n",
       "6558   iramores@ucm.es    Femenino    5.0    2.0        5.0   25-50%   \n",
       "6559   iramores@ucm.es    Femenino    5.0    2.0        0.0   25-50%   \n",
       "\n",
       "     Association      Category Friend Participation  ... Dif_FreeTime  \\\n",
       "4             No       Ninguna     Si             0  ...          0.0   \n",
       "5             No       Ninguna     Si             0  ...          0.0   \n",
       "7             No       Ninguna     No             0  ...          0.0   \n",
       "10            No       Ninguna     Si             1  ...          0.0   \n",
       "11            No       Ninguna     Si             1  ...          0.0   \n",
       "...          ...           ...    ...           ...  ...          ...   \n",
       "6554          Si  Voluntariado     Si             1  ...          0.0   \n",
       "6556          Si     Deportiva     Si             1  ...          0.0   \n",
       "6557          Si     Deportiva     Si             1  ...          0.0   \n",
       "6558          Si     Deportiva     Si             1  ...          1.0   \n",
       "6559          No       Ninguna     Si             1  ...          0.0   \n",
       "\n",
       "      Dif_Association  Dif_Friend  Dif_Politica  Dif_Artistica  Dif_Deportiva  \\\n",
       "4                 0.0         0.0           0.0            0.0            0.0   \n",
       "5                 0.0         0.0           0.0            0.0            0.0   \n",
       "7                 0.0         0.0           0.0            0.0            0.0   \n",
       "10                0.0         0.0           0.0            0.0            0.0   \n",
       "11                0.0         0.0           0.0            0.0            0.0   \n",
       "...               ...         ...           ...            ...            ...   \n",
       "6554              0.0         0.0           0.0            0.0            1.0   \n",
       "6556              0.0         0.0           0.0            0.0            0.0   \n",
       "6557              0.0         0.0           0.0            0.0            0.0   \n",
       "6558              0.0         0.0           0.0            0.0            0.0   \n",
       "6559              1.0         0.0           0.0            0.0            1.0   \n",
       "\n",
       "     Dif_Musical  Dif_Voluntariado  Dif_Ninguna  Dif_Credits  \n",
       "4            0.0               0.0          0.0          0.0  \n",
       "5            0.0               0.0          0.0          0.0  \n",
       "7            0.0               0.0          0.0          0.0  \n",
       "10           0.0               0.0          0.0          0.0  \n",
       "11           0.0               0.0          0.0          0.0  \n",
       "...          ...               ...          ...          ...  \n",
       "6554         0.0               0.0          0.0          0.0  \n",
       "6556         0.0               0.0          0.0          0.0  \n",
       "6557         0.0               0.0          0.0          0.0  \n",
       "6558         0.0               0.0          0.0          0.0  \n",
       "6559         0.0               0.0          1.0          0.0  \n",
       "\n",
       "[3938 rows x 36 columns]"
      ]
     },
     "execution_count": 30,
     "metadata": {},
     "output_type": "execute_result"
    }
   ],
   "source": [
    "df"
   ]
  },
  {
   "cell_type": "markdown",
   "metadata": {},
   "source": [
    "### Número de No recuerdos por variable"
   ]
  },
  {
   "cell_type": "code",
   "execution_count": 31,
   "metadata": {},
   "outputs": [
    {
     "data": {
      "text/plain": [
       "(124, 68, 91, 241)"
      ]
     },
     "execution_count": 31,
     "metadata": {},
     "output_type": "execute_result"
    }
   ],
   "source": [
    "sum(df.Sports == \"No recuerdo\"),sum(df.Attendance == \"No recuerdo\"),sum(df.Association == \"No recuerdo\"),sum(df.Friend == \"No recuerdo\")"
   ]
  },
  {
   "cell_type": "markdown",
   "metadata": {},
   "source": [
    "### Diferencias por variable"
   ]
  },
  {
   "cell_type": "code",
   "execution_count": 32,
   "metadata": {},
   "outputs": [],
   "source": [
    "df = df.reset_index(drop=True)"
   ]
  },
  {
   "cell_type": "code",
   "execution_count": 33,
   "metadata": {
    "scrolled": true
   },
   "outputs": [
    {
     "data": {
      "text/plain": [
       "(729, 3938, 0.1851193499238192)"
      ]
     },
     "execution_count": 33,
     "metadata": {},
     "output_type": "execute_result"
    }
   ],
   "source": [
    "sum(df[\"Dif_Participation\"]),len(df), sum(df[\"Dif_Participation\"])/len(df)"
   ]
  },
  {
   "cell_type": "markdown",
   "metadata": {},
   "source": [
    "### Añadir columna primer año"
   ]
  },
  {
   "cell_type": "code",
   "execution_count": 34,
   "metadata": {},
   "outputs": [],
   "source": [
    "df.loc[:,\"Year_1\"] = [0]*len(df)"
   ]
  },
  {
   "cell_type": "code",
   "execution_count": 35,
   "metadata": {},
   "outputs": [],
   "source": [
    "for i in range(len(df)):\n",
    "    if df.Year[i] == 1:\n",
    "        df.loc[i,\"Year_1\"] = 1"
   ]
  },
  {
   "cell_type": "code",
   "execution_count": 36,
   "metadata": {},
   "outputs": [
    {
     "data": {
      "text/plain": [
       "array([1849., 1312.,  413.,  197.,  197.,   54.,   40.,   94.,   36.,\n",
       "        137.,  286.])"
      ]
     },
     "execution_count": 36,
     "metadata": {},
     "output_type": "execute_result"
    }
   ],
   "source": [
    "sum(df.loc[:, [\"Dif_Sports\",\"Dif_Attendance\",\"Dif_FreeTime\",\"Dif_Association\",\"Dif_Friend\",\"Dif_Politica\",\"Dif_Artistica\",\"Dif_Deportiva\",\"Dif_Musical\",\"Dif_Voluntariado\",\"Dif_Credits\"]].values)"
   ]
  },
  {
   "cell_type": "markdown",
   "metadata": {},
   "source": [
    "## \"Limpieza\""
   ]
  },
  {
   "cell_type": "code",
   "execution_count": 37,
   "metadata": {},
   "outputs": [],
   "source": [
    "df = df.drop([\"Mail\"],axis = 1)\n",
    "\n",
    "# Lista con el nombre de las variables explicativas\n",
    "exp = df.columns.to_list()\n",
    "exp.pop(df.columns.to_list().index(\"Dif_Participation\"))\n",
    "exp\n",
    "df = df.loc[:,exp + [\"Dif_Participation\"]]"
   ]
  },
  {
   "cell_type": "markdown",
   "metadata": {},
   "source": [
    "# Descripción modelos "
   ]
  },
  {
   "cell_type": "markdown",
   "metadata": {},
   "source": [
    "## Modelo 1: Todo el mundo:  No participan"
   ]
  },
  {
   "cell_type": "markdown",
   "metadata": {},
   "source": [
    "* 2844 observaciones\n",
    "* 395 cambios(De Participar a No participar ó de No Participar a Participar)\n",
    "* 13,5 %\n"
   ]
  },
  {
   "cell_type": "code",
   "execution_count": 48,
   "metadata": {},
   "outputs": [],
   "source": [
    "model1 = df.loc[df.loc[:,\"Participation\"] ==0].reset_index(drop= True)\n",
    "model1"
   ]
  },
  {
   "cell_type": "code",
   "execution_count": 49,
   "metadata": {},
   "outputs": [
    {
     "data": {
      "text/plain": [
       "(2844, 395)"
      ]
     },
     "execution_count": 49,
     "metadata": {},
     "output_type": "execute_result"
    }
   ],
   "source": [
    "len(model1), sum(model1.loc[:,\"Dif_Participation\"] == 1)"
   ]
  },
  {
   "cell_type": "markdown",
   "metadata": {},
   "source": [
    "## Modelo 2: Todo el mundo:  Participan"
   ]
  },
  {
   "cell_type": "markdown",
   "metadata": {},
   "source": [
    "* 1094 observaciones\n",
    "* 334 cambios( De Participar a No participar ó de No Participar a Participar)\n",
    "* 30,5%"
   ]
  },
  {
   "cell_type": "code",
   "execution_count": 1,
   "metadata": {},
   "outputs": [
    {
     "ename": "NameError",
     "evalue": "name 'df' is not defined",
     "output_type": "error",
     "traceback": [
      "\u001b[0;31m---------------------------------------------------------------------------\u001b[0m",
      "\u001b[0;31mNameError\u001b[0m                                 Traceback (most recent call last)",
      "Input \u001b[0;32mIn [1]\u001b[0m, in \u001b[0;36m<cell line: 1>\u001b[0;34m()\u001b[0m\n\u001b[0;32m----> 1\u001b[0m model2 \u001b[38;5;241m=\u001b[39m \u001b[43mdf\u001b[49m\u001b[38;5;241m.\u001b[39mloc[df\u001b[38;5;241m.\u001b[39mloc[:,\u001b[38;5;124m\"\u001b[39m\u001b[38;5;124mParticipation\u001b[39m\u001b[38;5;124m\"\u001b[39m] \u001b[38;5;241m==\u001b[39m\u001b[38;5;241m1\u001b[39m]\u001b[38;5;241m.\u001b[39mreset_index(drop\u001b[38;5;241m=\u001b[39m \u001b[38;5;28;01mTrue\u001b[39;00m)\n\u001b[1;32m      2\u001b[0m model2\n",
      "\u001b[0;31mNameError\u001b[0m: name 'df' is not defined"
     ]
    }
   ],
   "source": [
    "model2 = df.loc[df.loc[:,\"Participation\"] ==1].reset_index(drop= True)\n",
    "model2"
   ]
  },
  {
   "cell_type": "code",
   "execution_count": 2,
   "metadata": {
    "scrolled": true
   },
   "outputs": [
    {
     "ename": "NameError",
     "evalue": "name 'model2' is not defined",
     "output_type": "error",
     "traceback": [
      "\u001b[0;31m---------------------------------------------------------------------------\u001b[0m",
      "\u001b[0;31mNameError\u001b[0m                                 Traceback (most recent call last)",
      "Input \u001b[0;32mIn [2]\u001b[0m, in \u001b[0;36m<cell line: 1>\u001b[0;34m()\u001b[0m\n\u001b[0;32m----> 1\u001b[0m \u001b[38;5;28mlen\u001b[39m(\u001b[43mmodel2\u001b[49m), \u001b[38;5;28msum\u001b[39m(model2\u001b[38;5;241m.\u001b[39mloc[:,\u001b[38;5;124m\"\u001b[39m\u001b[38;5;124mDif_Participation\u001b[39m\u001b[38;5;124m\"\u001b[39m] \u001b[38;5;241m==\u001b[39m \u001b[38;5;241m1\u001b[39m)\n",
      "\u001b[0;31mNameError\u001b[0m: name 'model2' is not defined"
     ]
    }
   ],
   "source": [
    "len(model2), sum(model2.loc[:,\"Dif_Participation\"] == 1)"
   ]
  },
  {
   "cell_type": "markdown",
   "metadata": {},
   "source": [
    "## Drop Columns"
   ]
  },
  {
   "cell_type": "code",
   "execution_count": 56,
   "metadata": {},
   "outputs": [],
   "source": [
    "model1 = model1.drop(columns = [\"Participation\"])\n",
    "model2 = model2.drop(columns = [\"Participation\"])"
   ]
  },
  {
   "cell_type": "code",
   "execution_count": 57,
   "metadata": {},
   "outputs": [],
   "source": [
    "#model1.to_csv(\"/Users/miguelaguirrejuarez/Desktop/LUCE/Proyecto/entorno1/Notebooks/TFM/Final/Data0/Datos_Modelo1.csv\",index= False)\n",
    "#model2.to_csv(\"/Users/miguelaguirrejuarez/Desktop/LUCE/Proyecto/entorno1/Notebooks/TFM/Final/Data0/Datos_Modelo2.csv\",index= False)"
   ]
  },
  {
   "cell_type": "code",
   "execution_count": null,
   "metadata": {},
   "outputs": [],
   "source": []
  },
  {
   "cell_type": "code",
   "execution_count": 58,
   "metadata": {},
   "outputs": [],
   "source": [
    "\n",
    "model2.to_csv(\"/Users/miguelaguirrejuarez/Desktop/LUCE/Proyecto/entorno1/Notebooks/LUCE/Datos/Modelo4.csv\",index= False)"
   ]
  }
 ],
 "metadata": {
  "colab": {
   "authorship_tag": "ABX9TyOpkfZsYJgZyI3H5D35Zc9x",
   "collapsed_sections": [
    "VzYP6ve4IGp_",
    "LqIlByrFlr-D",
    "37nhPV9wH_l0"
   ],
   "name": "Analisis Descriptivo.ipynb",
   "provenance": []
  },
  "kernelspec": {
   "display_name": "Python 3 (ipykernel)",
   "language": "python",
   "name": "python3"
  },
  "language_info": {
   "codemirror_mode": {
    "name": "ipython",
    "version": 3
   },
   "file_extension": ".py",
   "mimetype": "text/x-python",
   "name": "python",
   "nbconvert_exporter": "python",
   "pygments_lexer": "ipython3",
   "version": "3.9.7"
  },
  "latex_envs": {
   "LaTeX_envs_menu_present": true,
   "autoclose": false,
   "autocomplete": true,
   "bibliofile": "biblio.bib",
   "cite_by": "apalike",
   "current_citInitial": 1,
   "eqLabelWithNumbers": true,
   "eqNumInitial": 1,
   "hotkeys": {
    "equation": "Ctrl-E",
    "itemize": "Ctrl-I"
   },
   "labels_anchors": false,
   "latex_user_defs": false,
   "report_style_numbering": false,
   "user_envs_cfg": false
  },
  "toc": {
   "base_numbering": 1,
   "nav_menu": {},
   "number_sections": true,
   "sideBar": true,
   "skip_h1_title": false,
   "title_cell": "Table of Contents",
   "title_sidebar": "Contents",
   "toc_cell": true,
   "toc_position": {
    "height": "calc(100% - 180px)",
    "left": "10px",
    "top": "150px",
    "width": "269.57720947265625px"
   },
   "toc_section_display": true,
   "toc_window_display": true
  },
  "toc-autonumbering": true,
  "varInspector": {
   "cols": {
    "lenName": 16,
    "lenType": 16,
    "lenVar": 40
   },
   "kernels_config": {
    "python": {
     "delete_cmd_postfix": "",
     "delete_cmd_prefix": "del ",
     "library": "var_list.py",
     "varRefreshCmd": "print(var_dic_list())"
    },
    "r": {
     "delete_cmd_postfix": ") ",
     "delete_cmd_prefix": "rm(",
     "library": "var_list.r",
     "varRefreshCmd": "cat(var_dic_list()) "
    }
   },
   "types_to_exclude": [
    "module",
    "function",
    "builtin_function_or_method",
    "instance",
    "_Feature"
   ],
   "window_display": false
  }
 },
 "nbformat": 4,
 "nbformat_minor": 4
}
